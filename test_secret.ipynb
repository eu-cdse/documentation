{
 "cells": [
  {
   "cell_type": "code",
   "execution_count": 3,
   "metadata": {},
   "outputs": [],
   "source": [
    "def get_auth():\n",
    "    # token generation\n",
    "    from oauthlib.oauth2 import BackendApplicationClient\n",
    "    from requests_oauthlib import OAuth2Session\n",
    "    import os\n",
    "\n",
    "    # Your client credentials\n",
    "    # client_id = 'adea6192-2672-4296-94aa-1bcb9e5d2df7'\n",
    "    # client_secret = '~BRX82#Ii(-0N<,iVI@.d<lw~<sd~Ti?GU.N!6Y)'\n",
    "    client_id = os.environ['CLIENT_ID']\n",
    "    client_secret = os.environ['CLIENT_SECRET']\n",
    "\n",
    "    # Create a session\n",
    "    client = BackendApplicationClient(client_id=client_id)\n",
    "    oauth = OAuth2Session(client=client)\n",
    "\n",
    "    # Get token for the session\n",
    "    gen_token = oauth.fetch_token(token_url='https://services.sentinel-hub.com/oauth/token',\n",
    "                              client_secret=client_secret)\n",
    "    return gen_token['access_token'] \n",
    "\n"
   ]
  },
  {
   "cell_type": "code",
   "execution_count": null,
   "metadata": {},
   "outputs": [],
   "source": [
    "import requests\n",
    "import pandas as pd\n",
    "url = \"https://services.sentinel-hub.com/api/v1/catalog/1.0.0/search\"\n",
    "token = get_auth()\n",
    "query = {\n",
    "    \"bbox\": \"13,45,14,46\",\n",
    "    \"datetime\": \"2019-12-10T00:00:00Z/2019-12-11T00:00:00Z\",\n",
    "    \"collections\": \"sentinel-1-grd\",\n",
    "    \"limit\": 5,\n",
    "}\n",
    "headers = {\n",
    "  \"Content-Type\": \"application/json\",\n",
    "  \"Authorization\": f\"Bearer {token}\"}\n",
    "\n",
    "response = requests.get(url, params=query,headers=headers).json()\n",
    "pd.DataFrame.from_dict(response['features']).head(3)"
   ]
  }
 ],
 "metadata": {
  "language_info": {
   "name": "python"
  },
  "orig_nbformat": 4
 },
 "nbformat": 4,
 "nbformat_minor": 2
}
