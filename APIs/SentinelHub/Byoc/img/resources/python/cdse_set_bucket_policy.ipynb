{
 "cells": [
  {
   "cell_type": "code",
   "execution_count": null,
   "id": "smooth-corpus",
   "metadata": {},
   "outputs": [],
   "source": [
    "# Change the access key, secret_key and bucket_name\n",
    "\n",
    "from pprint import pprint\n",
    "import boto3\n",
    "import json\n",
    "\n",
    "access_key = <your-access-key>  # OpenStack access key\n",
    "secret_key = <your-secret-key>  # OpenStack secret key\n",
    "bucket_name = <your-bucket-name>  # bucket name\n",
    "host = \"https://s3.waw3-1.cloudferro.com/\"\n",
    "\n",
    "\n",
    "s3 = boto3.client(\n",
    "    \"s3\",\n",
    "    aws_access_key_id=access_key,\n",
    "    aws_secret_access_key=secret_key,\n",
    "    endpoint_url=host,\n",
    ")\n",
    "\n",
    "# share a bucket\n",
    "share_to = \"ddf4c98b5e6647f0a246f0624c8341d9\" # SH principal\n",
    "\n",
    "bucket_policy = {\n",
    "    \"Version\": \"2012-10-17\",\n",
    "    \"Statement\": [\n",
    "        {\n",
    "            \"Sid\": \"Sentinel Hub permissions\",\n",
    "            \"Effect\": \"Allow\",\n",
    "            \"Principal\": {\"AWS\": f\"arn:aws:iam::{share_to}:root\"},\n",
    "            \"Action\": [\n",
    "                \"s3:*\",\n",
    "            ],\n",
    "            \"Resource\": [\n",
    "                f\"arn:aws:s3:::{bucket_name}\",\n",
    "                f\"arn:aws:s3:::{bucket_name}/*\",\n",
    "            ],\n",
    "        }\n",
    "    ],\n",
    "}\n",
    "\n",
    "# Convert the policy from JSON dict to string\n",
    "bucket_policy = json.dumps(bucket_policy)\n",
    "\n",
    "# Set the new policy\n",
    "s3.put_bucket_policy(\n",
    "    Bucket=bucket_name,\n",
    "    Policy=bucket_policy,\n",
    ")\n",
    "\n",
    "result = s3.get_bucket_policy(Bucket=bucket_name)\n",
    "eval(result[\"Policy\"])"
   ]
  }
 ],
 "metadata": {
  "kernelspec": {
   "display_name": "pip_base",
   "language": "python",
   "name": "pip_base"
  },
  "language_info": {
   "codemirror_mode": {
    "name": "ipython",
    "version": 3
   },
   "file_extension": ".py",
   "mimetype": "text/x-python",
   "name": "python",
   "nbconvert_exporter": "python",
   "pygments_lexer": "ipython3",
   "version": "3.9.2"
  },
  "toc": {
   "base_numbering": 1,
   "nav_menu": {},
   "number_sections": true,
   "sideBar": true,
   "skip_h1_title": false,
   "title_cell": "Table of Contents",
   "title_sidebar": "Contents",
   "toc_cell": false,
   "toc_position": {},
   "toc_section_display": true,
   "toc_window_display": false
  },
  "varInspector": {
   "cols": {
    "lenName": 16,
    "lenType": 16,
    "lenVar": 40
   },
   "kernels_config": {
    "python": {
     "delete_cmd_postfix": "",
     "delete_cmd_prefix": "del ",
     "library": "var_list.py",
     "varRefreshCmd": "print(var_dic_list())"
    },
    "r": {
     "delete_cmd_postfix": ") ",
     "delete_cmd_prefix": "rm(",
     "library": "var_list.r",
     "varRefreshCmd": "cat(var_dic_list()) "
    }
   },
   "types_to_exclude": [
    "module",
    "function",
    "builtin_function_or_method",
    "instance",
    "_Feature"
   ],
   "window_display": false
  }
 },
 "nbformat": 4,
 "nbformat_minor": 5
}
